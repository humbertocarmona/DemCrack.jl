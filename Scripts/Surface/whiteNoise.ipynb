{
 "cells": [
  {
   "cell_type": "code",
   "execution_count": null,
   "metadata": {},
   "outputs": [],
   "source": [
    "using Random\n",
    "using Distributions\n",
    "function whiteNoise(pw)\n",
    "    \"\"\"\n",
    "    inegrated white noise: H=0.5\n",
    "    \"\"\"\n",
    "    N = 2^pw\n",
    "    whitenoise = rand(Normal(0.0,1.0), N)\n",
    "    z = cumsum(whitenoise)\n",
    "end"
   ]
  }
 ],
 "metadata": {
  "kernelspec": {
   "display_name": "",
   "name": ""
  },
  "language_info": {
   "file_extension": ".jl",
   "mimetype": "application/julia",
   "name": "julia",
   "version": "1.2.0"
  }
 },
 "nbformat": 4,
 "nbformat_minor": 4
}
