{
 "cells": [
  {
   "cell_type": "code",
   "execution_count": 9,
   "metadata": {},
   "outputs": [],
   "source": [
    "using FFTW\n",
    "using Distributions\n",
    "using Random\n",
    "using NBInclude"
   ]
  },
  {
   "cell_type": "code",
   "execution_count": 10,
   "metadata": {},
   "outputs": [
    {
     "data": {
      "text/plain": [
       "fftFilter2D (generic function with 1 method)"
      ]
     },
     "execution_count": 10,
     "metadata": {},
     "output_type": "execute_result"
    }
   ],
   "source": [
    "function fftFilter2D(maxlevel, h)\n",
    "    #Random.seed!(2342)\n",
    "    L = 2^maxlevel\n",
    "    L2 = L ÷ 2\n",
    "    β = (h+1)/2\n",
    "    f = zeros(Complex{Float64}, L,L) \n",
    "    \n",
    "    \n",
    "    # upper left  and lower right \n",
    "    rad = [(i^2 + j^2)^(-β) for i=1:L2, j=1:L2]\n",
    "    rad = rad .* rand(Normal(), L2, L2)\n",
    "    ϕ = 2π .* rand(L2, L2)\n",
    "    exp_iϕ = cos.(ϕ) .+ sin.(ϕ) .* im \n",
    "    Z = rad.*exp_iϕ\n",
    "    Z[L2,L2] = real(Z[L2, L2])\n",
    "    Zt = conj(Z[L2:-1:1, L2:-1:1])\n",
    "    \n",
    "    f[2:L2+1,2:L2+1] = Z     # line 1 is dealt with separetely\n",
    "    f[(L2+1):L,(L2+1):L] = Zt  \n",
    "    \n",
    "    \n",
    "    # lower left and  upper right\n",
    "    rad = [(i^2 + j^2)^(-β) for i=1:(L2-1), j=1:(L2-1)]\n",
    "    rad = rad .* rand(Normal(), (L2-1), (L2-1))\n",
    "    ϕ = 2π .* rand((L2-1), (L2-1))\n",
    "    exp_iϕ = cos.(ϕ) .+ sin.(ϕ) .* im \n",
    "    W = rad.*exp_iϕ\n",
    "    Wt = conj(W[(L2-1):-1:1, (L2-1):-1:1])\n",
    "\n",
    "    f[L:-1:(L2+2),2:L2] = W\n",
    "    f[L2:-1:2,(L2+2):L] = Wt \n",
    "    \n",
    "    \n",
    "    # first line\n",
    "    rad = [j^(-2*β) for j=1:L2]\n",
    "    rad = rad .* rand(Normal(), L2)\n",
    "    ϕ = (2*π) .* rand(L2)\n",
    "    exp_iϕ = cos.(ϕ) .+ sin.(ϕ) .* im \n",
    "    line = rad.*exp_iϕ\n",
    "    line[L2] = real(line[L2])\n",
    "    linet = conj(line[L2:-1:1])\n",
    "    \n",
    "    f[1,2:(L2+1)] = line\n",
    "    f[1,(L2+1):L] = linet\n",
    "\n",
    "    # first column\n",
    "    rad = [i^(-2*β) for i=1:L2]\n",
    "    rad = rad .* rand(Normal(), L2)\n",
    "    ϕ = (2*π) .* rand(L2)\n",
    "    exp_iϕ = cos.(ϕ) .+ sin.(ϕ) .* im \n",
    "    column = rad.*exp_iϕ\n",
    "    column[L2] = real(column[L2])\n",
    "    columnt = conj(column[L2:-1:1])\n",
    "    \n",
    "    f[2:(L2+1),1] = column\n",
    "    f[(L2+1):L,1] = columnt\n",
    "\n",
    "    f[1,1] = 1\n",
    "\n",
    "    g = ifft(f)\n",
    "    # println(sum(abs.(imag.(g))))\n",
    "    # h = fftshift(f)\n",
    "    # display( heatmap(log.(abs.(h.*h)).+ 1.0,size=(600,500), color=ColorGradient([:black,:yellow,:red])))\n",
    "    z = real(g)\n",
    "    z = (z .- mean(z)).*L^2\n",
    "    return z\n",
    "end"
   ]
  },
  {
   "cell_type": "code",
   "execution_count": 11,
   "metadata": {},
   "outputs": [
    {
     "data": {
      "text/plain": [
       "dfa2d (generic function with 1 method)"
      ]
     },
     "execution_count": 11,
     "metadata": {},
     "output_type": "execute_result"
    }
   ],
   "source": [
    "@nbinclude(\"dfa.ipynb\")"
   ]
  },
  {
   "cell_type": "code",
   "execution_count": 12,
   "metadata": {},
   "outputs": [
    {
     "data": {
      "text/plain": [
       "fbmSurf (generic function with 1 method)"
      ]
     },
     "execution_count": 12,
     "metadata": {},
     "output_type": "execute_result"
    }
   ],
   "source": [
    "function fbmSurf(maxlevel, h; atol=0.01)\n",
    "    \"\"\"\n",
    "    - uses fftFilter2D to generate surfaces\n",
    "    - checks Hurst using DFA\n",
    "    - returns surface heights z with Hurst within atol\n",
    "    \"\"\"\n",
    "    hurst = 50.0\n",
    "    n=0\n",
    "    z = []\n",
    "    while !isapprox(hurst, h; atol=atol) && n<1e3\n",
    "        z = fftFilter2D(maxlevel, h)\n",
    "        hurst = dfa2d(z; scales=3:0.5:maxlevel-2)\n",
    "        n+=1\n",
    "    end\n",
    "    println(n)\n",
    "    return z\n",
    "end"
   ]
  },
  {
   "cell_type": "code",
   "execution_count": 17,
   "metadata": {},
   "outputs": [
    {
     "data": {
      "text/plain": [
       "make2DSurfs (generic function with 2 methods)"
      ]
     },
     "execution_count": 17,
     "metadata": {},
     "output_type": "execute_result"
    }
   ],
   "source": [
    "function make2DSurfs(;maxlevel=9, hursts=0.3:0.1:0.8, samples=1:1, fbm=nothing, atol=0.01)\n",
    "    \"\"\"\n",
    "    returns a dictionary with the set of selfAffine surfaces\n",
    "    \"\"\"\n",
    "    \n",
    "    fbm = fbm == nothing ? Dict() : fbm\n",
    "    fbm[\"hursts\"]=collect(hursts)\n",
    "    fbm[\"samples\"]=collect(samples)\n",
    "    fbm[\"maxlevel\"] = maxlevel\n",
    "    for h=hursts\n",
    "        sample = Dict()\n",
    "        for s=samples\n",
    "            z = fbmSurf(maxlevel,h, atol=atol)\n",
    "            sample[\"$s\"]=z\n",
    "        end\n",
    "        fbm[\"$h\"]=sample\n",
    "        println(\"finished $h\")\n",
    "    end\n",
    "    return fbm\n",
    "end\n",
    "\n",
    "function make2DSurfs(filename::String)\n",
    "    fbm = load(filename)[\"fbm\"]\n",
    "end"
   ]
  },
  {
   "cell_type": "code",
   "execution_count": null,
   "metadata": {},
   "outputs": [],
   "source": []
  }
 ],
 "metadata": {
  "kernelspec": {
   "display_name": "Julia 1.2.0",
   "language": "julia",
   "name": "julia-1.2"
  },
  "language_info": {
   "file_extension": ".jl",
   "mimetype": "application/julia",
   "name": "julia",
   "version": "1.2.0"
  }
 },
 "nbformat": 4,
 "nbformat_minor": 4
}
