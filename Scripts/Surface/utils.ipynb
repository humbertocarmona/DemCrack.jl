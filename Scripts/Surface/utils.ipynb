{
 "cells": [
  {
   "cell_type": "code",
   "execution_count": 1,
   "metadata": {},
   "outputs": [
    {
     "data": {
      "text/plain": [
       "showarray (generic function with 1 method)"
      ]
     },
     "execution_count": 1,
     "metadata": {},
     "output_type": "execute_result"
    }
   ],
   "source": [
    "function showarray(arr)\n",
    "    println(summary(arr))\n",
    "    Base.print_matrix(IOContext(stdout, :limit => true), arr)\n",
    "    println()\n",
    "end"
   ]
  },
  {
   "cell_type": "code",
   "execution_count": 2,
   "metadata": {},
   "outputs": [
    {
     "data": {
      "text/plain": [
       "strided (generic function with 2 methods)"
      ]
     },
     "execution_count": 2,
     "metadata": {},
     "output_type": "execute_result"
    }
   ],
   "source": [
    "function strided(carr::Array{Float64,1}, scale::Int64, offset=-1)\n",
    "    offset = offset==-1 ? scale : offset\n",
    "    stridedarr = [carr[n:n+scale-1] for n=1:offset:(length(carr)-scale+1)]\n",
    "end"
   ]
  },
  {
   "cell_type": "code",
   "execution_count": null,
   "metadata": {},
   "outputs": [],
   "source": [
    "function fbmArea(z)\n",
    "    nx, ny = size(z)\n",
    "    area = 0.0\n",
    "    for i=1:nx-1\n",
    "        for j=1:ny-1\n",
    "            v1 = [0; 1; z[i,j+1] - z[i,j]]\n",
    "            v2 = [1; 0; z[i+1,j] - z[i,j]]    \n",
    "            v3 = [0; -1; z[i+1,j] - z[i+1,j+1]]\n",
    "            v4 = [-1; 0; z[i,j+1] - z[i+1,j+1]]    \n",
    "            area += (norm(v2 × v1)+norm(v4 × v3))/2\n",
    "        end\n",
    "    end\n",
    "    return area/(nx*ny)\n",
    "end"
   ]
  }
 ],
 "metadata": {
  "kernelspec": {
   "display_name": "Julia 1.2.0",
   "language": "julia",
   "name": "julia-1.2"
  },
  "language_info": {
   "file_extension": ".jl",
   "mimetype": "application/julia",
   "name": "julia",
   "version": "1.2.0"
  }
 },
 "nbformat": 4,
 "nbformat_minor": 4
}
