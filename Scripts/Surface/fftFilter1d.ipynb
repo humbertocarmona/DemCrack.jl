{
 "cells": [
  {
   "cell_type": "code",
   "execution_count": null,
   "metadata": {},
   "outputs": [],
   "source": [
    "using FFTW\n",
    "using Random\n",
    "using Distributions\n",
    "using LsqFit"
   ]
  },
  {
   "cell_type": "code",
   "execution_count": null,
   "metadata": {},
   "outputs": [],
   "source": [
    "function fourierFiltering(pw, h)\n",
    "    N= 2^pw\n",
    "    N2 = N ÷ 2\n",
    "    β = 2*h+1\n",
    "    f = zeros(Complex{Float64}, N2)\n",
    "\n",
    "    rad = [(i^(-β/2)) for i in 1:N2]\n",
    "    rad = rad .* rand(Normal(0.0,1.0), N2)\n",
    "    ϕ = 2π .* rand(N2)\n",
    "    exp_iϕ = cos.(ϕ) .+ sin.(ϕ) .* im\n",
    "    f[1:N2] = rad.*exp_iϕ\n",
    "#     f[N2] = real(f[N2])\n",
    "    g = irfft(f, 2*N2-1)  # irfft is nomalized by 1/N2\n",
    "    zh = (g .- mean(g)).*N2^(1+h)\n",
    "end"
   ]
  },
  {
   "cell_type": "code",
   "execution_count": null,
   "metadata": {},
   "outputs": [],
   "source": [
    "function fbmfft(pw, h)\n",
    "    hurst=-1\n",
    "    n=1\n",
    "    z = fourierFiltering(pw,h)\n",
    "    while !isapprox(hurst,h; atol=0.01) && n<10000\n",
    "        z = fourierFiltering(pw,h)\n",
    "        x, y = dfa(z; scal=3:0.25:(pw-2), offset=50)\n",
    "        p = curve_fit((x,p)-> p[1] .+ p[2].*x, x,y,[0.0,0.0])\n",
    "        \n",
    "        hurst = p.param[2]-1\n",
    "        n+=1\n",
    "    end\n",
    "    return hurst, z\n",
    "end"
   ]
  }
 ],
 "metadata": {
  "kernelspec": {
   "display_name": "Julia 1.2.0",
   "language": "julia",
   "name": "julia-1.2"
  },
  "language_info": {
   "file_extension": ".jl",
   "mimetype": "application/julia",
   "name": "julia",
   "version": "1.2.0"
  }
 },
 "nbformat": 4,
 "nbformat_minor": 4
}
