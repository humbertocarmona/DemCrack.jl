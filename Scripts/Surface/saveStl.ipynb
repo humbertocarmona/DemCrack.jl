{
 "cells": [
  {
   "cell_type": "code",
   "execution_count": 1,
   "metadata": {},
   "outputs": [],
   "source": [
    "import numpy as np\n",
    "import meshio as msh\n",
    "import pandas as pd"
   ]
  },
  {
   "cell_type": "code",
   "execution_count": 2,
   "metadata": {},
   "outputs": [],
   "source": [
    "def csv2stl(csvfile, stlfile):\n",
    "    z = pd.read_csv(csvfile).to_numpy()\n",
    "    points = []\n",
    "    nx = z.shape[0]\n",
    "    ny = z.shape[1]\n",
    "\n",
    "    for j in range(ny):\n",
    "        for i in range(nx):\n",
    "            points.append([i-1,j-1,z[j,i]])\n",
    "\n",
    "\n",
    "    def ij2n(i,j):\n",
    "        return i+(nx)*(j)\n",
    "\n",
    "    tri=[]\n",
    "    for j in range(ny-1):\n",
    "        for i in range(nx-1):\n",
    "            t = ij2n(i,j)\n",
    "            u = ij2n(i+1,j+1)\n",
    "            v = ij2n(i, j+1)\n",
    "            tri.append([t,u,v])\n",
    "\n",
    "            t = ij2n(i,j)\n",
    "            u = ij2n(i+1,j)\n",
    "            v = ij2n(i+1, j+1)\n",
    "            tri.append([t,u,v])\n",
    "\n",
    "    cells=dict()\n",
    "    cells[\"triangle\"]=np.array(tri)\n",
    "    msh.write_points_cells(stlfile, np.array(points), cells, point_data={'pos':np.array(points)})\n",
    "    print(\"ok\")"
   ]
  },
  {
   "cell_type": "code",
   "execution_count": 3,
   "metadata": {},
   "outputs": [
    {
     "name": "stdout",
     "output_type": "stream",
     "text": [
      "ok\n"
     ]
    }
   ],
   "source": [
    "csv2stl(\"04.csv\", \"04.stl\")"
   ]
  },
  {
   "cell_type": "code",
   "execution_count": 5,
   "metadata": {},
   "outputs": [
    {
     "name": "stdout",
     "output_type": "stream",
     "text": [
      "ok\n"
     ]
    }
   ],
   "source": [
    "csv2stl(\"05.csv\", \"n05.stl\")"
   ]
  },
  {
   "cell_type": "code",
   "execution_count": null,
   "metadata": {},
   "outputs": [],
   "source": []
  }
 ],
 "metadata": {
  "kernelspec": {
   "display_name": "Python 3",
   "language": "python",
   "name": "python3"
  },
  "language_info": {
   "codemirror_mode": {
    "name": "ipython",
    "version": 3
   },
   "file_extension": ".py",
   "mimetype": "text/x-python",
   "name": "python",
   "nbconvert_exporter": "python",
   "pygments_lexer": "ipython3",
   "version": "3.7.4"
  }
 },
 "nbformat": 4,
 "nbformat_minor": 4
}
