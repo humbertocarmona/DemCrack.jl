{
 "cells": [
  {
   "cell_type": "markdown",
   "metadata": {},
   "source": [
    "<img src=\"images/notes1.png\">\n",
    "<img src=\"images/notes2.png\">\n",
    "<img src=\"images/notes3.png\">"
   ]
  },
  {
   "cell_type": "code",
   "execution_count": 1,
   "metadata": {},
   "outputs": [],
   "source": [
    "using Random\n",
    "using Distributions\n",
    "using NBInclude\n"
   ]
  },
  {
   "cell_type": "code",
   "execution_count": 2,
   "metadata": {},
   "outputs": [
    {
     "data": {
      "text/plain": [
       "interpolatedFBM (generic function with 2 methods)"
      ]
     },
     "execution_count": 2,
     "metadata": {},
     "output_type": "execute_result"
    }
   ],
   "source": [
    "function midpointRecursion(z::Array{Float64,1}, i0::Int64, i1::Int64, level::Int64, maxlevel::Int64, Δn)\n",
    "    i = (i0+i1)÷2\n",
    "    z[i] = 0.5*(z[i0]+z[i1]) + rand(Normal(0.0, Δn[level]))\n",
    "    if level < maxlevel\n",
    "        midpointRecursion(z,i0,i, level+1, maxlevel,Δn)\n",
    "        midpointRecursion(z,i,i1, level+1, maxlevel,Δn)\n",
    "    end\n",
    "end\n",
    "\n",
    "function interpolatedFBM(H::Float64, maxlevel::Int64, σ::Float64=1.0)\n",
    "    \"\"\"\n",
    "        generate a fractional brownian motion, L = 2^maxlevel\n",
    "        using mid-point interpolation\n",
    "    \"\"\"\n",
    "    L = 2^maxlevel\n",
    "    f = σ*(L^H)*(1-2^(2*H-2))^0.5    # var(z(L)-z(0)) ≡ σ^2 L^2H\n",
    "    Δn = [f*2^(-n*H) for n=1:maxlevel]\n",
    "    z = zeros(L)\n",
    "    z[L] = rand(Normal(0.0,σ*(L^H)))\n",
    "    midpointRecursion(z,1,L,1,maxlevel, Δn)\n",
    "    return z\n",
    "end"
   ]
  },
  {
   "cell_type": "code",
   "execution_count": 8,
   "metadata": {},
   "outputs": [
    {
     "data": {
      "text/plain": [
       "fbmmid (generic function with 1 method)"
      ]
     },
     "execution_count": 8,
     "metadata": {},
     "output_type": "execute_result"
    }
   ],
   "source": [
    "@nbinclude(\"dfa.ipynb\")\n",
    "function fbmmid(h, maxlevel)\n",
    "    hurst = -1\n",
    "    n = 1\n",
    "    z = []\n",
    "    while !isapprox(hurst, h; atol=0.01) && n<100\n",
    "        z = interpolatedFBM(h, maxlevel)\n",
    "        hurst, x, y = dfa(z; scal=4:0.25:maxlevel-2, offset=50)\n",
    "        n+=1\n",
    "    end\n",
    "    return hurst, z\n",
    "end"
   ]
  },
  {
   "cell_type": "code",
   "execution_count": null,
   "metadata": {},
   "outputs": [],
   "source": [
    "# using Plots; plotly()\n",
    "# @nbinclude(\"dfa.ipynb\")\n",
    "# function interpolateFBMTest_(hurst, nsamples=20)\n",
    "#     \"\"\"\n",
    "#     for a given hurst, plot chech if var(z) ≈ L^2h with L the size of the series\n",
    "#     \"\"\"\n",
    "#     s = []\n",
    "#     L = []\n",
    "#     h = []\n",
    "#     for n=8:14\n",
    "#         sav = 0.0\n",
    "#         hav = 0.0\n",
    "#         for i=1:nsamples\n",
    "#             z = interpolateFBM(hurst, n)\n",
    "#             x, y = dfa(z; scal=3:0.25:n-2, offset=50)\n",
    "#             p = curve_fit((x,p)-> p[1] .+ p[2].*x, x,y,[0.0,0.0])\n",
    "#             sav += std(z)\n",
    "#             hav += p.param[2] -1\n",
    "#         end\n",
    "#         push!(L, 2^n)\n",
    "#         push!(h, hav/nsamples)\n",
    "#         push!(s, sav/nsamples)\n",
    "#     end\n",
    "#     p1 = plot(L,s, markershape=:circle, axis=:log10)\n",
    "#     plot!(L, 0.3.*L.^hurst)\n",
    "# end"
   ]
  },
  {
   "cell_type": "code",
   "execution_count": null,
   "metadata": {},
   "outputs": [],
   "source": []
  },
  {
   "cell_type": "code",
   "execution_count": null,
   "metadata": {},
   "outputs": [],
   "source": []
  }
 ],
 "metadata": {
  "kernelspec": {
   "display_name": "Julia 1.2.0",
   "language": "julia",
   "name": "julia-1.2"
  },
  "language_info": {
   "file_extension": ".jl",
   "mimetype": "application/julia",
   "name": "julia",
   "version": "1.2.0"
  }
 },
 "nbformat": 4,
 "nbformat_minor": 4
}
