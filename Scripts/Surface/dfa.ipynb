{
 "cells": [
  {
   "cell_type": "code",
   "execution_count": 2,
   "metadata": {},
   "outputs": [],
   "source": [
    "using NBInclude\n",
    "using LsqFit"
   ]
  },
  {
   "cell_type": "code",
   "execution_count": 3,
   "metadata": {},
   "outputs": [
    {
     "data": {
      "text/plain": [
       "dfa (generic function with 1 method)"
      ]
     },
     "execution_count": 3,
     "metadata": {},
     "output_type": "execute_result"
    }
   ],
   "source": [
    "@nbinclude(\"utils.ipynb\")\n",
    "function dfa(z; scales=3:0.5:8, offset=-1)\n",
    "    # cummulative sum of (z - <z>)\n",
    "    zcum = cumsum(z .- mean(z))\n",
    "    \n",
    "    # define the rulers for each x-window\n",
    "    scales = collect(scales)\n",
    "    rulers = convert.(Int64,round.(2 .^ scales))\n",
    "\n",
    "    \n",
    "    # each rulers will have rms averaged for each window in the data\n",
    "    fluct = zeros(length(rulers))\n",
    "    \n",
    "    for (k, ℓ) in enumerate(rulers)        \n",
    "        # x data is the same for all windows in this scale\n",
    "        xdata = collect(1:ℓ)\n",
    "        \n",
    "        #each element contail the data in one window\n",
    "        yvec = strided(zcum,ℓ,offset)\n",
    "\n",
    "        #for each window one rms\n",
    "        rms = zeros(length(yvec))\n",
    "\n",
    "        for (i,ydata) in enumerate(yvec)\n",
    "            fit = curve_fit((x, p) -> p[1] .+ p[2].*x, xdata, ydata, [1.0, 1.0])\n",
    "            σ = stderror(fit)\n",
    "            rms[i] = sqrt(mean(fit.resid.^2))\n",
    "            # yfit = model(xdata, fit.param)\n",
    "            # rms2 = sqrt(mean((ydata .- yfit).^2))\n",
    "        end\n",
    "        fluct[k] = mean(rms)\n",
    "    end\n",
    "    \n",
    "    # now fit (fluct vs. scale) \n",
    "    x = log10.(rulers)\n",
    "    y = log10.(fluct)\n",
    "    fit = curve_fit((x, p) -> p[1] .+ p[2].*x ,x, y, [.0, .0])\n",
    "    h = fit.param[2]-1.0\n",
    "    return  h,x,y\n",
    "end"
   ]
  },
  {
   "cell_type": "code",
   "execution_count": 4,
   "metadata": {},
   "outputs": [
    {
     "data": {
      "text/plain": [
       "dfa2d (generic function with 1 method)"
      ]
     },
     "execution_count": 4,
     "metadata": {},
     "output_type": "execute_result"
    }
   ],
   "source": [
    "function dfa2d(z; scales=3:0.5:8, offset=-1)\n",
    "    L = size(z)[1]\n",
    "    hurst = 0\n",
    "    n = 0\n",
    "    for i=10:10:L-10\n",
    "        h, x, y = dfa(z[:,i]; scales=scales, offset=offset)\n",
    "        hurst += h\n",
    "        n+=1\n",
    "    end\n",
    "    for i=10:10:L-10\n",
    "        h, x, y = dfa(z[i,:]; scales=scales, offset=offset)\n",
    "        hurst += h\n",
    "        n+=1\n",
    "    end\n",
    "    hurst = hurst/n\n",
    "end"
   ]
  },
  {
   "cell_type": "code",
   "execution_count": null,
   "metadata": {},
   "outputs": [],
   "source": []
  }
 ],
 "metadata": {
  "kernelspec": {
   "display_name": "Julia 1.2.0",
   "language": "julia",
   "name": "julia-1.2"
  },
  "language_info": {
   "file_extension": ".jl",
   "mimetype": "application/julia",
   "name": "julia",
   "version": "1.2.0"
  }
 },
 "nbformat": 4,
 "nbformat_minor": 4
}
